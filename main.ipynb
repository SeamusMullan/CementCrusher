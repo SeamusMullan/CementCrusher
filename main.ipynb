{
 "cells": [
  {
   "cell_type": "code",
   "execution_count": 1,
   "metadata": {},
   "outputs": [],
   "source": [
    "import scipy\n",
    "import numpy as np\n",
    "import matplotlib.pyplot as plt\n",
    "import pandas as pd\n",
    "\n",
    "\n"
   ]
  },
  {
   "cell_type": "markdown",
   "metadata": {},
   "source": [
    "# Properties of normal Portland Cement Concrete\n",
    " - Density - ρ : 2240 - 2400 kg/m<sup>3</sup> (140 - 150 lb/ft<sup>3</sup>) \n",
    " - Compressive strength : 20 - 40 MPa (3000 - 6000 psi)\n",
    " - Flexural strength : 3 - 5 MPa (400 - 700 psi)\n",
    " - Tensile strength - σ : 2 - 5 MPa (300 - 700 psi)\n",
    " - Modulus of elasticity - E : 14 - 41 GPa (2 - 6 x 10<sup>6</sup> psi)\n",
    " - Permeability : 1 x 10<sup>-10</sup> cm/sec\n",
    " - Coefficient of thermal expansion - β : 10<sup>-5</sup> <sup>o</sup>C<sup>-1</sup> (5.5 x 10<sup>-6</sup> <sup>o</sup>F<sup>-1</sup>)\n",
    " - Drying shrinkage : 4 - 8 x 10<sup>-4</sup>\n",
    " - Drying shrinkage of reinforced concrete : 2 - 3 x 10<sup>-4</sup>\n",
    " - Poisson's ratio : 0.20 - 0.21\n",
    " - Shear strength - τ : 6 - 17 MPa\n",
    " - Specific heat - c :  0.75 kJ/kg K (0.18 Btu/lb<sub>m</sub> <sup>o</sup>F (kcal/kg <sup>o</sup>C))\n",
    "\n",
    "Sources\n",
    "- https://www.engineeringtoolbox.com/concrete-properties-d_1223.html\n",
    "- https://civilengineeringbible.com/article.php?i=14\n"
   ]
  },
  {
   "cell_type": "code",
   "execution_count": null,
   "metadata": {},
   "outputs": [],
   "source": []
  }
 ],
 "metadata": {
  "interpreter": {
   "hash": "bd4c67ef142469da7dc4d338a32ac40116904d26076b8e6aa587d80720bc6a2b"
  },
  "kernelspec": {
   "display_name": "Python 3.9.7 64-bit (system)",
   "language": "python",
   "name": "python3"
  },
  "language_info": {
   "codemirror_mode": {
    "name": "ipython",
    "version": 3
   },
   "file_extension": ".py",
   "mimetype": "text/x-python",
   "name": "python",
   "nbconvert_exporter": "python",
   "pygments_lexer": "ipython3",
   "version": "3.9.7"
  },
  "orig_nbformat": 4
 },
 "nbformat": 4,
 "nbformat_minor": 2
}
