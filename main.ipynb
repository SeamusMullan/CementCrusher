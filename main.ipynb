{
 "cells": [
  {
   "cell_type": "code",
   "execution_count": null,
   "metadata": {},
   "outputs": [],
   "source": [
    "import matplotlib\n",
    "import matplotlib.pyplot as plt\n",
    "import numpy as np\n",
    "import scipy\n",
    "\n",
    "## Define variables for the material and layout of test\n",
    "\n",
    "# Piston Info\n",
    "Piston_Force = 0\n",
    "Piston_Dist = 0\n",
    "Piston_Vel = 0\n",
    "Piston_Accel = 0\n",
    "\n",
    "\n",
    "# Cement Info\n",
    "\n",
    "Cube_Side = 1\n",
    "Cube_Mass = 1\n",
    "Cube_Density = 1"
   ]
  },
  {
   "cell_type": "code",
   "execution_count": null,
   "metadata": {},
   "outputs": [],
   "source": [
    "## Define functions for the material and layout of test\n",
    "\n",
    "\n",
    "def Piston_Force_Calc(Piston_Dist, Piston_Vel):\n",
    "    Piston_Force = Piston_Dist * Piston_Vel\n",
    "    return Piston_Force\n",
    "\n"
   ]
  }
 ],
 "metadata": {
  "interpreter": {
   "hash": "bd4c67ef142469da7dc4d338a32ac40116904d26076b8e6aa587d80720bc6a2b"
  },
  "kernelspec": {
   "display_name": "Python 3.9.7 64-bit (system)",
   "language": "python",
   "name": "python3"
  },
  "language_info": {
   "codemirror_mode": {
    "name": "ipython",
    "version": 3
   },
   "file_extension": ".py",
   "mimetype": "text/x-python",
   "name": "python",
   "nbconvert_exporter": "python",
   "pygments_lexer": "ipython3",
   "version": "3.9.7"
  },
  "orig_nbformat": 4
 },
 "nbformat": 4,
 "nbformat_minor": 2
}
